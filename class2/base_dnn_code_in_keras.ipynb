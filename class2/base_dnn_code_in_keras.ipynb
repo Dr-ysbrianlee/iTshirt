{
  "nbformat": 4,
  "nbformat_minor": 0,
  "metadata": {
    "colab": {
      "name": "base_dnn_code_in_keras.ipynb",
      "provenance": [],
      "collapsed_sections": [],
      "toc_visible": true
    },
    "kernelspec": {
      "name": "python3",
      "display_name": "Python 3"
    },
    "language_info": {
      "name": "python"
    }
  },
  "cells": [
    {
      "cell_type": "markdown",
      "metadata": {
        "id": "HJ5g4PQQAj4F"
      },
      "source": [
        "# Keras 코드의 기본 구조"
      ]
    },
    {
      "cell_type": "markdown",
      "metadata": {
        "id": "yO4z2xKOlDpO"
      },
      "source": [
        "## 데이터 준비"
      ]
    },
    {
      "cell_type": "markdown",
      "metadata": {
        "id": "DIwxCjeeApC4"
      },
      "source": [
        "라이브러리 임포팅"
      ]
    },
    {
      "cell_type": "code",
      "metadata": {
        "id": "UKLT2_YY-_jU"
      },
      "source": [
        "import numpy as np\n",
        "import pandas as pd\n",
        "import matplotlib.pyplot as plt\n",
        "\n",
        "import tensorflow as tf\n",
        "\n",
        "from tensorflow import keras\n",
        "from tensorflow.keras import optimizers\n",
        "from tensorflow.keras.layers import Dense, Input"
      ],
      "execution_count": null,
      "outputs": []
    },
    {
      "cell_type": "markdown",
      "metadata": {
        "id": "mLId1mL6AsGI"
      },
      "source": [
        "데이터 로딩"
      ]
    },
    {
      "cell_type": "code",
      "metadata": {
        "id": "3g_xjaE6A9ij",
        "colab": {
          "base_uri": "https://localhost:8080/"
        },
        "outputId": "31d37355-7726-4fc2-87e9-3df1d3b541ec"
      },
      "source": [
        "(train_x, train_y), (test_x, test_y) = tf.keras.datasets.boston_housing.load_data()"
      ],
      "execution_count": null,
      "outputs": [
        {
          "output_type": "stream",
          "name": "stdout",
          "text": [
            "Downloading data from https://storage.googleapis.com/tensorflow/tf-keras-datasets/boston_housing.npz\n",
            "57344/57026 [==============================] - 0s 0us/step\n",
            "65536/57026 [==================================] - 0s 0us/step\n"
          ]
        }
      ]
    },
    {
      "cell_type": "code",
      "metadata": {
        "colab": {
          "base_uri": "https://localhost:8080/"
        },
        "id": "n4CY3juG-4u8",
        "outputId": "60207591-0ee1-4385-af33-3f9466ece7ec"
      },
      "source": [
        "print(train_x.shape)\n",
        "print(train_y.shape)\n",
        "print(test_x.shape)\n",
        "print(test_y.shape)"
      ],
      "execution_count": null,
      "outputs": [
        {
          "output_type": "stream",
          "name": "stdout",
          "text": [
            "(404, 13)\n",
            "(404,)\n",
            "(102, 13)\n",
            "(102,)\n"
          ]
        }
      ]
    },
    {
      "cell_type": "code",
      "metadata": {
        "colab": {
          "base_uri": "https://localhost:8080/"
        },
        "id": "_3Tvjpn5_Dta",
        "outputId": "56f4cad0-5803-4d59-99d2-34b732e163be"
      },
      "source": [
        "print(train_x[:5])\n",
        "print(train_y[:5])"
      ],
      "execution_count": null,
      "outputs": [
        {
          "output_type": "stream",
          "name": "stdout",
          "text": [
            "[[1.23247e+00 0.00000e+00 8.14000e+00 0.00000e+00 5.38000e-01 6.14200e+00\n",
            "  9.17000e+01 3.97690e+00 4.00000e+00 3.07000e+02 2.10000e+01 3.96900e+02\n",
            "  1.87200e+01]\n",
            " [2.17700e-02 8.25000e+01 2.03000e+00 0.00000e+00 4.15000e-01 7.61000e+00\n",
            "  1.57000e+01 6.27000e+00 2.00000e+00 3.48000e+02 1.47000e+01 3.95380e+02\n",
            "  3.11000e+00]\n",
            " [4.89822e+00 0.00000e+00 1.81000e+01 0.00000e+00 6.31000e-01 4.97000e+00\n",
            "  1.00000e+02 1.33250e+00 2.40000e+01 6.66000e+02 2.02000e+01 3.75520e+02\n",
            "  3.26000e+00]\n",
            " [3.96100e-02 0.00000e+00 5.19000e+00 0.00000e+00 5.15000e-01 6.03700e+00\n",
            "  3.45000e+01 5.98530e+00 5.00000e+00 2.24000e+02 2.02000e+01 3.96900e+02\n",
            "  8.01000e+00]\n",
            " [3.69311e+00 0.00000e+00 1.81000e+01 0.00000e+00 7.13000e-01 6.37600e+00\n",
            "  8.84000e+01 2.56710e+00 2.40000e+01 6.66000e+02 2.02000e+01 3.91430e+02\n",
            "  1.46500e+01]]\n",
            "[15.2 42.3 50.  21.1 17.7]\n"
          ]
        }
      ]
    },
    {
      "cell_type": "markdown",
      "metadata": {
        "id": "QP-mrNSTlHpZ"
      },
      "source": [
        "## 모델 준비"
      ]
    },
    {
      "cell_type": "markdown",
      "metadata": {
        "id": "ApmwMYtPBmpJ"
      },
      "source": [
        "### 모델 구조 정의"
      ]
    },
    {
      "cell_type": "code",
      "metadata": {
        "id": "ys8DFaudBmU0"
      },
      "source": [
        "model = keras.Sequential()\n",
        "model.add(Input(13))\n",
        "model.add(Dense(10, activation='relu'))\n",
        "model.add(Dense(10, activation='relu'))\n",
        "model.add(Dense(1))"
      ],
      "execution_count": null,
      "outputs": []
    },
    {
      "cell_type": "markdown",
      "metadata": {
        "id": "4m9jvYfzBruP"
      },
      "source": [
        "### loss, optimizer 정의\n",
        "\n",
        "학습에 필요한 loss, optimizer를 정의한다.\n",
        "\n",
        "또한 필요한 경우 지표를 설정한다."
      ]
    },
    {
      "cell_type": "code",
      "source": [
        "model.compile(optimizer=\"Adam\", loss=\"mse\", metrics=[\"mae\"])"
      ],
      "metadata": {
        "id": "_kIUWNAToa69"
      },
      "execution_count": null,
      "outputs": []
    },
    {
      "cell_type": "markdown",
      "source": [
        "### 모델 모양 보기"
      ],
      "metadata": {
        "id": "qUvAijAPoZEt"
      }
    },
    {
      "cell_type": "code",
      "metadata": {
        "colab": {
          "base_uri": "https://localhost:8080/"
        },
        "id": "Xw5ysH_wBqzH",
        "outputId": "0e8bf19d-5941-446a-8e10-5b9cbef47496"
      },
      "source": [
        "model.summary()"
      ],
      "execution_count": null,
      "outputs": [
        {
          "output_type": "stream",
          "name": "stdout",
          "text": [
            "Model: \"sequential\"\n",
            "_________________________________________________________________\n",
            " Layer (type)                Output Shape              Param #   \n",
            "=================================================================\n",
            " dense (Dense)               (None, 10)                140       \n",
            "                                                                 \n",
            " dense_1 (Dense)             (None, 10)                110       \n",
            "                                                                 \n",
            " dense_2 (Dense)             (None, 1)                 11        \n",
            "                                                                 \n",
            "=================================================================\n",
            "Total params: 261\n",
            "Trainable params: 261\n",
            "Non-trainable params: 0\n",
            "_________________________________________________________________\n"
          ]
        }
      ]
    },
    {
      "cell_type": "markdown",
      "metadata": {
        "id": "BksbioIZB6Mk"
      },
      "source": [
        "## 모델 학습"
      ]
    },
    {
      "cell_type": "code",
      "metadata": {
        "colab": {
          "base_uri": "https://localhost:8080/"
        },
        "id": "Wa7OoLm-B8OU",
        "outputId": "54e348f6-57b1-494f-cfda-9c292fd4a341"
      },
      "source": [
        "history = model.fit(train_x, train_y, epochs=100, batch_size=32, validation_split=0.2)"
      ],
      "execution_count": null,
      "outputs": [
        {
          "output_type": "stream",
          "name": "stdout",
          "text": [
            "Epoch 1/100\n",
            "11/11 [==============================] - 1s 34ms/step - loss: 567.7636 - mae: 21.8933 - val_loss: 639.6313 - val_mae: 23.4977\n",
            "Epoch 2/100\n",
            "11/11 [==============================] - 0s 6ms/step - loss: 563.5885 - mae: 21.6311 - val_loss: 636.8091 - val_mae: 23.3323\n",
            "Epoch 3/100\n",
            "11/11 [==============================] - 0s 7ms/step - loss: 560.7601 - mae: 21.4912 - val_loss: 634.7740 - val_mae: 23.1708\n",
            "Epoch 4/100\n",
            "11/11 [==============================] - 0s 6ms/step - loss: 559.2878 - mae: 21.4375 - val_loss: 634.1006 - val_mae: 23.1582\n",
            "Epoch 5/100\n",
            "11/11 [==============================] - 0s 4ms/step - loss: 558.1843 - mae: 21.3857 - val_loss: 633.5298 - val_mae: 23.1471\n",
            "Epoch 6/100\n",
            "11/11 [==============================] - 0s 4ms/step - loss: 557.4471 - mae: 21.3610 - val_loss: 633.0006 - val_mae: 23.1362\n",
            "Epoch 7/100\n",
            "11/11 [==============================] - 0s 4ms/step - loss: 556.6680 - mae: 21.3411 - val_loss: 632.4716 - val_mae: 23.1234\n",
            "Epoch 8/100\n",
            "11/11 [==============================] - 0s 4ms/step - loss: 555.9482 - mae: 21.3125 - val_loss: 631.6652 - val_mae: 23.0996\n",
            "Epoch 9/100\n",
            "11/11 [==============================] - 0s 4ms/step - loss: 555.1526 - mae: 21.2781 - val_loss: 630.8742 - val_mae: 23.0745\n",
            "Epoch 10/100\n",
            "11/11 [==============================] - 0s 6ms/step - loss: 554.3547 - mae: 21.2435 - val_loss: 630.1108 - val_mae: 23.0503\n",
            "Epoch 11/100\n",
            "11/11 [==============================] - 0s 6ms/step - loss: 553.2175 - mae: 21.1959 - val_loss: 628.3728 - val_mae: 23.0105\n",
            "Epoch 12/100\n",
            "11/11 [==============================] - 0s 5ms/step - loss: 546.2109 - mae: 21.0095 - val_loss: 607.4661 - val_mae: 22.4380\n",
            "Epoch 13/100\n",
            "11/11 [==============================] - 0s 5ms/step - loss: 518.7905 - mae: 20.1758 - val_loss: 565.7476 - val_mae: 20.9026\n",
            "Epoch 14/100\n",
            "11/11 [==============================] - 0s 5ms/step - loss: 456.3123 - mae: 18.5108 - val_loss: 425.9368 - val_mae: 17.8502\n",
            "Epoch 15/100\n",
            "11/11 [==============================] - 0s 6ms/step - loss: 344.0875 - mae: 16.1865 - val_loss: 301.9569 - val_mae: 15.0037\n",
            "Epoch 16/100\n",
            "11/11 [==============================] - 0s 4ms/step - loss: 272.1085 - mae: 13.8950 - val_loss: 246.1336 - val_mae: 13.2803\n",
            "Epoch 17/100\n",
            "11/11 [==============================] - 0s 4ms/step - loss: 220.5197 - mae: 12.3488 - val_loss: 215.6601 - val_mae: 12.2033\n",
            "Epoch 18/100\n",
            "11/11 [==============================] - 0s 4ms/step - loss: 184.6462 - mae: 11.0796 - val_loss: 184.4025 - val_mae: 11.0501\n",
            "Epoch 19/100\n",
            "11/11 [==============================] - 0s 4ms/step - loss: 157.1646 - mae: 9.9247 - val_loss: 158.1723 - val_mae: 9.9856\n",
            "Epoch 20/100\n",
            "11/11 [==============================] - 0s 4ms/step - loss: 126.1317 - mae: 8.8358 - val_loss: 106.5598 - val_mae: 7.8622\n",
            "Epoch 21/100\n",
            "11/11 [==============================] - 0s 6ms/step - loss: 90.4496 - mae: 7.1397 - val_loss: 97.0048 - val_mae: 6.8720\n",
            "Epoch 22/100\n",
            "11/11 [==============================] - 0s 5ms/step - loss: 73.6635 - mae: 6.6854 - val_loss: 76.4011 - val_mae: 5.9111\n",
            "Epoch 23/100\n",
            "11/11 [==============================] - 0s 6ms/step - loss: 64.9482 - mae: 6.0472 - val_loss: 86.0478 - val_mae: 5.9085\n",
            "Epoch 24/100\n",
            "11/11 [==============================] - 0s 6ms/step - loss: 63.3156 - mae: 5.7530 - val_loss: 76.5653 - val_mae: 5.6281\n",
            "Epoch 25/100\n",
            "11/11 [==============================] - 0s 7ms/step - loss: 61.3337 - mae: 5.5781 - val_loss: 80.4396 - val_mae: 5.6901\n",
            "Epoch 26/100\n",
            "11/11 [==============================] - 0s 7ms/step - loss: 62.0017 - mae: 5.6257 - val_loss: 76.3866 - val_mae: 5.6182\n",
            "Epoch 27/100\n",
            "11/11 [==============================] - 0s 5ms/step - loss: 62.0164 - mae: 5.4931 - val_loss: 76.2986 - val_mae: 5.5794\n",
            "Epoch 28/100\n",
            "11/11 [==============================] - 0s 7ms/step - loss: 59.7625 - mae: 5.5630 - val_loss: 75.8505 - val_mae: 5.5422\n",
            "Epoch 29/100\n",
            "11/11 [==============================] - 0s 6ms/step - loss: 58.6956 - mae: 5.4177 - val_loss: 76.7348 - val_mae: 5.5364\n",
            "Epoch 30/100\n",
            "11/11 [==============================] - 0s 8ms/step - loss: 61.8977 - mae: 5.2870 - val_loss: 73.2976 - val_mae: 5.4554\n",
            "Epoch 31/100\n",
            "11/11 [==============================] - 0s 6ms/step - loss: 58.4940 - mae: 5.4346 - val_loss: 77.2457 - val_mae: 5.5271\n",
            "Epoch 32/100\n",
            "11/11 [==============================] - 0s 6ms/step - loss: 59.7175 - mae: 5.1678 - val_loss: 72.6722 - val_mae: 5.4003\n",
            "Epoch 33/100\n",
            "11/11 [==============================] - 0s 5ms/step - loss: 57.5726 - mae: 5.4311 - val_loss: 70.4949 - val_mae: 5.3765\n",
            "Epoch 34/100\n",
            "11/11 [==============================] - 0s 5ms/step - loss: 58.9074 - mae: 5.2025 - val_loss: 74.2157 - val_mae: 5.4003\n",
            "Epoch 35/100\n",
            "11/11 [==============================] - 0s 6ms/step - loss: 56.5857 - mae: 5.3499 - val_loss: 69.6110 - val_mae: 5.3531\n",
            "Epoch 36/100\n",
            "11/11 [==============================] - 0s 7ms/step - loss: 58.6539 - mae: 5.2069 - val_loss: 70.7013 - val_mae: 5.3300\n",
            "Epoch 37/100\n",
            "11/11 [==============================] - 0s 5ms/step - loss: 56.4156 - mae: 5.3576 - val_loss: 70.6617 - val_mae: 5.3151\n",
            "Epoch 38/100\n",
            "11/11 [==============================] - 0s 5ms/step - loss: 55.5854 - mae: 5.1343 - val_loss: 72.5672 - val_mae: 5.3407\n",
            "Epoch 39/100\n",
            "11/11 [==============================] - 0s 7ms/step - loss: 55.0221 - mae: 5.1347 - val_loss: 69.3288 - val_mae: 5.2961\n",
            "Epoch 40/100\n",
            "11/11 [==============================] - 0s 7ms/step - loss: 55.4082 - mae: 5.1021 - val_loss: 68.8443 - val_mae: 5.2757\n",
            "Epoch 41/100\n",
            "11/11 [==============================] - 0s 7ms/step - loss: 54.6846 - mae: 5.1443 - val_loss: 68.1137 - val_mae: 5.2501\n",
            "Epoch 42/100\n",
            "11/11 [==============================] - 0s 7ms/step - loss: 55.8254 - mae: 5.3612 - val_loss: 71.3064 - val_mae: 5.2680\n",
            "Epoch 43/100\n",
            "11/11 [==============================] - 0s 6ms/step - loss: 56.0750 - mae: 4.9449 - val_loss: 66.9072 - val_mae: 5.2266\n",
            "Epoch 44/100\n",
            "11/11 [==============================] - 0s 6ms/step - loss: 54.3142 - mae: 5.2256 - val_loss: 69.2686 - val_mae: 5.2070\n",
            "Epoch 45/100\n",
            "11/11 [==============================] - 0s 7ms/step - loss: 54.5525 - mae: 4.9392 - val_loss: 66.2059 - val_mae: 5.2011\n",
            "Epoch 46/100\n",
            "11/11 [==============================] - 0s 7ms/step - loss: 53.6073 - mae: 5.1234 - val_loss: 67.7326 - val_mae: 5.1688\n",
            "Epoch 47/100\n",
            "11/11 [==============================] - 0s 5ms/step - loss: 53.0637 - mae: 5.0008 - val_loss: 69.1388 - val_mae: 5.1752\n",
            "Epoch 48/100\n",
            "11/11 [==============================] - 0s 8ms/step - loss: 53.8292 - mae: 4.8655 - val_loss: 65.7400 - val_mae: 5.1399\n",
            "Epoch 49/100\n",
            "11/11 [==============================] - 0s 4ms/step - loss: 52.6707 - mae: 5.0733 - val_loss: 65.4105 - val_mae: 5.1353\n",
            "Epoch 50/100\n",
            "11/11 [==============================] - 0s 4ms/step - loss: 52.3342 - mae: 4.9683 - val_loss: 67.8193 - val_mae: 5.1585\n",
            "Epoch 51/100\n",
            "11/11 [==============================] - 0s 4ms/step - loss: 53.6144 - mae: 5.0347 - val_loss: 63.9031 - val_mae: 5.2626\n",
            "Epoch 52/100\n",
            "11/11 [==============================] - 0s 6ms/step - loss: 52.5745 - mae: 5.1266 - val_loss: 70.7684 - val_mae: 5.2738\n",
            "Epoch 53/100\n",
            "11/11 [==============================] - 0s 4ms/step - loss: 52.9235 - mae: 4.8960 - val_loss: 62.8840 - val_mae: 5.1446\n",
            "Epoch 54/100\n",
            "11/11 [==============================] - 0s 4ms/step - loss: 52.6077 - mae: 5.1342 - val_loss: 65.9264 - val_mae: 5.0582\n",
            "Epoch 55/100\n",
            "11/11 [==============================] - 0s 4ms/step - loss: 50.8530 - mae: 4.9075 - val_loss: 62.8184 - val_mae: 5.0456\n",
            "Epoch 56/100\n",
            "11/11 [==============================] - 0s 4ms/step - loss: 51.6589 - mae: 4.8947 - val_loss: 64.4036 - val_mae: 5.0329\n",
            "Epoch 57/100\n",
            "11/11 [==============================] - 0s 4ms/step - loss: 53.6521 - mae: 5.2637 - val_loss: 64.9273 - val_mae: 5.0248\n",
            "Epoch 58/100\n",
            "11/11 [==============================] - 0s 4ms/step - loss: 52.2581 - mae: 4.7432 - val_loss: 61.9997 - val_mae: 5.0063\n",
            "Epoch 59/100\n",
            "11/11 [==============================] - 0s 6ms/step - loss: 50.9917 - mae: 5.1672 - val_loss: 59.0620 - val_mae: 5.1293\n",
            "Epoch 60/100\n",
            "11/11 [==============================] - 0s 4ms/step - loss: 52.4184 - mae: 5.4902 - val_loss: 61.1553 - val_mae: 4.9585\n",
            "Epoch 61/100\n",
            "11/11 [==============================] - 0s 4ms/step - loss: 49.3203 - mae: 4.6870 - val_loss: 58.6052 - val_mae: 4.9073\n",
            "Epoch 62/100\n",
            "11/11 [==============================] - 0s 5ms/step - loss: 47.4932 - mae: 4.8115 - val_loss: 56.1457 - val_mae: 4.9836\n",
            "Epoch 63/100\n",
            "11/11 [==============================] - 0s 6ms/step - loss: 48.3139 - mae: 5.1560 - val_loss: 63.7748 - val_mae: 4.9478\n",
            "Epoch 64/100\n",
            "11/11 [==============================] - 0s 4ms/step - loss: 50.4253 - mae: 4.6103 - val_loss: 54.4337 - val_mae: 5.1536\n",
            "Epoch 65/100\n",
            "11/11 [==============================] - 0s 4ms/step - loss: 46.8028 - mae: 4.9033 - val_loss: 59.3223 - val_mae: 4.7740\n",
            "Epoch 66/100\n",
            "11/11 [==============================] - 0s 4ms/step - loss: 48.4346 - mae: 4.6995 - val_loss: 54.2313 - val_mae: 4.8882\n",
            "Epoch 67/100\n",
            "11/11 [==============================] - 0s 4ms/step - loss: 43.8014 - mae: 4.5516 - val_loss: 56.8013 - val_mae: 4.7191\n",
            "Epoch 68/100\n",
            "11/11 [==============================] - 0s 7ms/step - loss: 44.0941 - mae: 4.5052 - val_loss: 52.8794 - val_mae: 4.8492\n",
            "Epoch 69/100\n",
            "11/11 [==============================] - 0s 6ms/step - loss: 43.6810 - mae: 4.8473 - val_loss: 57.8778 - val_mae: 4.6876\n",
            "Epoch 70/100\n",
            "11/11 [==============================] - 0s 8ms/step - loss: 46.1029 - mae: 4.4603 - val_loss: 52.7401 - val_mae: 5.3134\n",
            "Epoch 71/100\n",
            "11/11 [==============================] - 0s 5ms/step - loss: 43.0012 - mae: 4.9095 - val_loss: 60.2167 - val_mae: 4.7769\n",
            "Epoch 72/100\n",
            "11/11 [==============================] - 0s 6ms/step - loss: 46.0878 - mae: 4.4622 - val_loss: 51.5101 - val_mae: 5.1579\n",
            "Epoch 73/100\n",
            "11/11 [==============================] - 0s 7ms/step - loss: 44.3665 - mae: 4.9374 - val_loss: 57.3181 - val_mae: 4.6580\n",
            "Epoch 74/100\n",
            "11/11 [==============================] - 0s 7ms/step - loss: 42.6377 - mae: 4.3587 - val_loss: 50.5532 - val_mae: 5.1082\n",
            "Epoch 75/100\n",
            "11/11 [==============================] - 0s 7ms/step - loss: 42.5523 - mae: 4.6881 - val_loss: 53.8135 - val_mae: 4.5531\n",
            "Epoch 76/100\n",
            "11/11 [==============================] - 0s 6ms/step - loss: 41.1240 - mae: 4.3037 - val_loss: 49.8460 - val_mae: 4.6118\n",
            "Epoch 77/100\n",
            "11/11 [==============================] - 0s 6ms/step - loss: 40.6282 - mae: 4.4130 - val_loss: 49.2156 - val_mae: 4.7504\n",
            "Epoch 78/100\n",
            "11/11 [==============================] - 0s 5ms/step - loss: 42.3965 - mae: 4.8876 - val_loss: 52.3059 - val_mae: 4.6730\n",
            "Epoch 79/100\n",
            "11/11 [==============================] - 0s 5ms/step - loss: 40.7756 - mae: 4.3865 - val_loss: 50.0238 - val_mae: 4.6910\n",
            "Epoch 80/100\n",
            "11/11 [==============================] - 0s 7ms/step - loss: 40.2376 - mae: 4.6144 - val_loss: 51.0422 - val_mae: 4.5008\n",
            "Epoch 81/100\n",
            "11/11 [==============================] - 0s 5ms/step - loss: 39.1679 - mae: 4.2324 - val_loss: 48.1180 - val_mae: 4.6785\n",
            "Epoch 82/100\n",
            "11/11 [==============================] - 0s 4ms/step - loss: 40.3780 - mae: 4.7840 - val_loss: 51.9053 - val_mae: 4.4831\n",
            "Epoch 83/100\n",
            "11/11 [==============================] - 0s 4ms/step - loss: 40.1502 - mae: 4.2865 - val_loss: 47.1785 - val_mae: 4.6750\n",
            "Epoch 84/100\n",
            "11/11 [==============================] - 0s 4ms/step - loss: 38.8826 - mae: 4.3313 - val_loss: 48.2612 - val_mae: 4.4657\n",
            "Epoch 85/100\n",
            "11/11 [==============================] - 0s 4ms/step - loss: 39.2805 - mae: 4.4125 - val_loss: 52.1416 - val_mae: 4.5398\n",
            "Epoch 86/100\n",
            "11/11 [==============================] - 0s 5ms/step - loss: 39.1817 - mae: 4.2488 - val_loss: 46.4343 - val_mae: 4.6167\n",
            "Epoch 87/100\n",
            "11/11 [==============================] - 0s 4ms/step - loss: 38.3797 - mae: 4.2749 - val_loss: 46.2597 - val_mae: 4.5955\n",
            "Epoch 88/100\n",
            "11/11 [==============================] - 0s 6ms/step - loss: 37.7356 - mae: 4.4413 - val_loss: 47.5104 - val_mae: 4.4377\n",
            "Epoch 89/100\n",
            "11/11 [==============================] - 0s 6ms/step - loss: 37.3621 - mae: 4.2428 - val_loss: 45.5304 - val_mae: 4.6313\n",
            "Epoch 90/100\n",
            "11/11 [==============================] - 0s 4ms/step - loss: 37.8287 - mae: 4.4175 - val_loss: 48.0398 - val_mae: 4.3998\n",
            "Epoch 91/100\n",
            "11/11 [==============================] - 0s 6ms/step - loss: 37.3886 - mae: 4.1702 - val_loss: 44.9834 - val_mae: 4.5943\n",
            "Epoch 92/100\n",
            "11/11 [==============================] - 0s 5ms/step - loss: 38.8731 - mae: 4.2444 - val_loss: 45.0007 - val_mae: 4.4446\n",
            "Epoch 93/100\n",
            "11/11 [==============================] - 0s 5ms/step - loss: 37.1890 - mae: 4.3844 - val_loss: 46.2210 - val_mae: 4.3595\n",
            "Epoch 94/100\n",
            "11/11 [==============================] - 0s 6ms/step - loss: 37.1096 - mae: 4.1391 - val_loss: 43.9868 - val_mae: 4.4850\n",
            "Epoch 95/100\n",
            "11/11 [==============================] - 0s 5ms/step - loss: 36.1395 - mae: 4.2147 - val_loss: 43.6251 - val_mae: 4.4464\n",
            "Epoch 96/100\n",
            "11/11 [==============================] - 0s 5ms/step - loss: 36.3890 - mae: 4.4456 - val_loss: 45.5615 - val_mae: 4.3330\n",
            "Epoch 97/100\n",
            "11/11 [==============================] - 0s 4ms/step - loss: 36.8173 - mae: 4.0614 - val_loss: 43.0631 - val_mae: 4.4697\n",
            "Epoch 98/100\n",
            "11/11 [==============================] - 0s 4ms/step - loss: 36.3075 - mae: 4.3703 - val_loss: 48.2311 - val_mae: 4.4163\n",
            "Epoch 99/100\n",
            "11/11 [==============================] - 0s 7ms/step - loss: 35.7101 - mae: 4.1464 - val_loss: 42.5918 - val_mae: 4.4548\n",
            "Epoch 100/100\n",
            "11/11 [==============================] - 0s 7ms/step - loss: 36.4049 - mae: 4.1385 - val_loss: 42.2715 - val_mae: 4.5941\n"
          ]
        }
      ]
    },
    {
      "cell_type": "markdown",
      "metadata": {
        "id": "lgJvUUx6B-At"
      },
      "source": [
        "학습 로스 보기"
      ]
    },
    {
      "cell_type": "code",
      "metadata": {
        "colab": {
          "base_uri": "https://localhost:8080/",
          "height": 265
        },
        "id": "O0K5nM1oB9qB",
        "outputId": "cc2f76a5-9cb5-4af5-97c8-189aca1e2d6d"
      },
      "source": [
        "plt.plot(history.history['loss'], label=\"loss\")\n",
        "plt.plot(history.history['val_loss'], label=\"val_loss\")\n",
        "plt.legend()\n",
        "plt.show()"
      ],
      "execution_count": null,
      "outputs": [
        {
          "output_type": "display_data",
          "data": {
            "image/png": "[encoded data removed]",
            "text/plain": [
              "<Figure size 432x288 with 1 Axes>"
            ]
          },
          "metadata": {
            "needs_background": "light"
          }
        }
      ]
    },
    {
      "cell_type": "markdown",
      "metadata": {
        "id": "ewjRBSPVCBPY"
      },
      "source": [
        "## 모델 평가"
      ]
    },
    {
      "cell_type": "code",
      "metadata": {
        "colab": {
          "base_uri": "https://localhost:8080/"
        },
        "id": "ReEQHyYQCAuc",
        "outputId": "f37033ee-8d04-40d4-efee-fd2a1ec0fba8"
      },
      "source": [
        "loss, mae = model.evaluate(test_x, test_y)\n",
        "print(\"loss=\", loss)\n",
        "print(\"mae=\", mae)"
      ],
      "execution_count": null,
      "outputs": [
        {
          "output_type": "stream",
          "name": "stdout",
          "text": [
            "4/4 [==============================] - 0s 4ms/step - loss: 43.8744 - mae: 4.9660\n",
            "loss= 43.87443161010742\n",
            "mae= 4.965980052947998\n"
          ]
        }
      ]
    },
    {
      "cell_type": "markdown",
      "metadata": {
        "id": "RHIkti-Vs8Sw"
      },
      "source": [
        "model.compile() 호출 시에 metrics에 설정한 지표에 따라 evaluate()의 반환 갯수가 결정된다.\n",
        "```\n",
        "model.compile(..., metrcis=[])\n",
        "loss = model.evaluate(test_x, test_y)\n",
        "```\n",
        "\n",
        "```\n",
        "model.compile(..., metrcis=[\"mae\"])\n",
        "loss, mae = model.evaluate(test_x, test_y)\n",
        "```\n",
        "\n",
        "```\n",
        "model.compile(..., metrcis=[\"mae\", \"mape\"])\n",
        "loss, mae, mape = model.evaluate(test_x, test_y)\n",
        "```\n",
        "\n"
      ]
    },
    {
      "cell_type": "markdown",
      "metadata": {
        "id": "mR_AWAE5CDyu"
      },
      "source": [
        "## 모델 예측"
      ]
    },
    {
      "cell_type": "code",
      "metadata": {
        "id": "UdVRvKWqCEKi"
      },
      "source": [
        "y_ = model.predict(test_x)"
      ],
      "execution_count": null,
      "outputs": []
    },
    {
      "cell_type": "markdown",
      "metadata": {
        "id": "znp7b1paCIAI"
      },
      "source": [
        "예측 결과 보기"
      ]
    },
    {
      "cell_type": "code",
      "metadata": {
        "id": "Jfi9lIa6CKN8",
        "colab": {
          "base_uri": "https://localhost:8080/",
          "height": 265
        },
        "outputId": "bdf66841-c1b1-4d2b-b305-8909c22460a1"
      },
      "source": [
        "plt.scatter(test_y, y_)\n",
        "plt.show()"
      ],
      "execution_count": null,
      "outputs": [
        {
          "output_type": "display_data",
          "data": {
            "image/png": "[encoded data removed]",
            "text/plain": [
              "<Figure size 432x288 with 1 Axes>"
            ]
          },
          "metadata": {
            "needs_background": "light"
          }
        }
      ]
    },
    {
      "cell_type": "markdown",
      "metadata": {
        "id": "FIn3K4NmCVYl"
      },
      "source": [
        "# Keras 코드 기본 구조 - 한눈에 보면"
      ]
    },
    {
      "cell_type": "code",
      "metadata": {
        "id": "aaV-o0hNC7lZ"
      },
      "source": [
        "import numpy as np\n",
        "import pandas as pd\n",
        "import matplotlib.pyplot as plt\n",
        "\n",
        "import tensorflow as tf\n",
        "\n",
        "from tensorflow import keras\n",
        "from tensorflow.keras import optimizers\n",
        "from tensorflow.keras.layers import Dense, Input"
      ],
      "execution_count": null,
      "outputs": []
    },
    {
      "cell_type": "code",
      "metadata": {
        "id": "3znSAHx2C8IV"
      },
      "source": [
        "(train_x, train_y), (test_x, test_y) = tf.keras.datasets.boston_housing.load_data()"
      ],
      "execution_count": null,
      "outputs": []
    },
    {
      "cell_type": "code",
      "metadata": {
        "id": "xfCCe4o4ATss",
        "colab": {
          "base_uri": "https://localhost:8080/",
          "height": 1000
        },
        "outputId": "c92aaf18-e71e-45e2-efd5-5bee695ca8f7"
      },
      "source": [
        "# 모델 정의\n",
        "model = keras.Sequential()\n",
        "model.add(Input(13))\n",
        "model.add(Dense(10, activation='relu'))\n",
        "model.add(Dense(10, activation='relu'))\n",
        "model.add(Dense(1))\n",
        "\n",
        "\n",
        "# 모델 컴파일\n",
        "model.compile(optimizer=\"Adam\", loss=\"mse\", metrics=[\"mae\"])\n",
        "model.summary()\n",
        "\n",
        "\n",
        "# 모델 학습\n",
        "history = model.fit(train_x, train_y, epochs=10, batch_size=32, validation_split=0.2)\n",
        "\n",
        "\n",
        "# 학습 로스 보기\n",
        "plt.plot(history.history['loss'], label=\"loss\")\n",
        "plt.plot(history.history['val_loss'], label=\"val_loss\")\n",
        "plt.legend()\n",
        "plt.show()\n",
        "\n",
        "\n",
        "# 평가\n",
        "loss, mae = model.evaluate(test_x, test_y)\n",
        "print(\"loss=\", loss)\n",
        "print(\"mae=\", mae)\n",
        "\n",
        "\n",
        "# 예측\n",
        "y_ = model.predict(test_x)\n",
        "\n",
        "\n",
        "# 예측 결과 보기\n",
        "plt.scatter(test_y, y_)\n",
        "plt.show()\n"
      ],
      "execution_count": null,
      "outputs": [
        {
          "output_type": "stream",
          "name": "stdout",
          "text": [
            "Model: \"sequential_1\"\n",
            "_________________________________________________________________\n",
            " Layer (type)                Output Shape              Param #   \n",
            "=================================================================\n",
            " dense_3 (Dense)             (None, 10)                140       \n",
            "                                                                 \n",
            " dense_4 (Dense)             (None, 10)                110       \n",
            "                                                                 \n",
            " dense_5 (Dense)             (None, 1)                 11        \n",
            "                                                                 \n",
            "=================================================================\n",
            "Total params: 261\n",
            "Trainable params: 261\n",
            "Non-trainable params: 0\n",
            "_________________________________________________________________\n",
            "Epoch 1/10\n",
            "11/11 [==============================] - 1s 22ms/step - loss: 1479.9462 - mae: 37.3074 - val_loss: 1290.8944 - val_mae: 34.4471\n",
            "Epoch 2/10\n",
            "11/11 [==============================] - 0s 5ms/step - loss: 997.6053 - mae: 30.1431 - val_loss: 894.4250 - val_mae: 28.0186\n",
            "Epoch 3/10\n",
            "11/11 [==============================] - 0s 7ms/step - loss: 635.2079 - mae: 23.3658 - val_loss: 566.6767 - val_mae: 21.2768\n",
            "Epoch 4/10\n",
            "11/11 [==============================] - 0s 5ms/step - loss: 349.9276 - mae: 15.8505 - val_loss: 295.2810 - val_mae: 13.5584\n",
            "Epoch 5/10\n",
            "11/11 [==============================] - 0s 6ms/step - loss: 177.1995 - mae: 10.2531 - val_loss: 181.1076 - val_mae: 9.6138\n",
            "Epoch 6/10\n",
            "11/11 [==============================] - 0s 5ms/step - loss: 140.6226 - mae: 9.4415 - val_loss: 153.3421 - val_mae: 8.8823\n",
            "Epoch 7/10\n",
            "11/11 [==============================] - 0s 7ms/step - loss: 127.5020 - mae: 9.0593 - val_loss: 143.7630 - val_mae: 8.4613\n",
            "Epoch 8/10\n",
            "11/11 [==============================] - 0s 5ms/step - loss: 116.8710 - mae: 8.5648 - val_loss: 138.6775 - val_mae: 8.2817\n",
            "Epoch 9/10\n",
            "11/11 [==============================] - 0s 5ms/step - loss: 110.7934 - mae: 8.2493 - val_loss: 132.4174 - val_mae: 7.9769\n",
            "Epoch 10/10\n",
            "11/11 [==============================] - 0s 5ms/step - loss: 105.0148 - mae: 8.0301 - val_loss: 121.4038 - val_mae: 7.4505\n"
          ]
        },
        {
          "output_type": "display_data",
          "data": {
            "image/png": "[encoded data removed]",
            "text/plain": [
              "<Figure size 432x288 with 1 Axes>"
            ]
          },
          "metadata": {
            "needs_background": "light"
          }
        },
        {
          "output_type": "stream",
          "name": "stdout",
          "text": [
            "4/4 [==============================] - 0s 3ms/step - loss: 107.8122 - mae: 8.1779\n",
            "loss= 107.81217193603516\n",
            "mae= 8.177864074707031\n"
          ]
        },
        {
          "output_type": "display_data",
          "data": {
            "image/png": "[encoded data removed]",
            "text/plain": [
              "<Figure size 432x288 with 1 Axes>"
            ]
          },
          "metadata": {
            "needs_background": "light"
          }
        }
      ]
    },
    {
      "cell_type": "markdown",
      "metadata": {
        "id": "PWHWq-9CDM74"
      },
      "source": [
        "# loss 설정\n",
        "\n",
        "- 회귀 문제일 때는 \"mse\"\n",
        "\n",
        "- 분류 문제일 때는 \"sparse_categorical_crossentropy\""
      ]
    },
    {
      "cell_type": "code",
      "metadata": {
        "id": "QpgPcHYUDYQ5"
      },
      "source": [
        "model.compile(optimizer=\"Adam\", loss=\"mse\")\n",
        "\n",
        "model.compile(optimizer=\"Adam\", loss=\"sparse_categorical_crossentropy\")"
      ],
      "execution_count": null,
      "outputs": []
    },
    {
      "cell_type": "markdown",
      "metadata": {
        "id": "23vWdTCQDPKg"
      },
      "source": [
        "# optimizer 설정\n",
        "- \"Adam\" / Adam()\n",
        "- \"Adadelta\" / Adadelta()\n",
        "- \"Adagrad\" / Adagrad()\n",
        "- \"RMSrop\" / RMSprop()\n"
      ]
    },
    {
      "cell_type": "code",
      "metadata": {
        "id": "M1isBh92FQ5b"
      },
      "source": [
        "from tensorflow.keras.optimizers import Adam, Adagrad, Adadelta, RMSprop\n",
        "\n",
        "model.compile(optimizer=\"Adam\", loss=\"mse\")\n",
        "model.compile(optimizer=Adam(), loss=\"mse\")\n",
        "model.compile(optimizer=Adam(learning_rate=0.001), loss=\"mse\")\n",
        "\n",
        "model.compile(optimizer=\"Adagrad\", loss=\"mse\")\n",
        "model.compile(optimizer=Adagrad(), loss=\"mse\")\n",
        "model.compile(optimizer=Adagrad(learning_rate=0.001), loss=\"mse\")\n",
        "\n",
        "model.compile(optimizer=\"Adadelta\", loss=\"mse\")\n",
        "model.compile(optimizer=Adadelta(), loss=\"mse\")\n",
        "model.compile(optimizer=Adadelta(learning_rate=0.001), loss=\"mse\")\n",
        "\n",
        "model.compile(optimizer=\"RMSprop\", loss=\"mse\")\n",
        "model.compile(optimizer=RMSprop(), loss=\"mse\")\n",
        "model.compile(optimizer=RMSprop(learning_rate=0.001), loss=\"mse\")"
      ],
      "execution_count": null,
      "outputs": []
    },
    {
      "cell_type": "markdown",
      "metadata": {
        "id": "y5pWvzXVKA5X"
      },
      "source": [
        "# 모델 저장과 로딩"
      ]
    },
    {
      "cell_type": "code",
      "metadata": {
        "id": "n_mI9k-jKEfN"
      },
      "source": [
        "import numpy as np\n",
        "import pandas as pd\n",
        "import matplotlib.pyplot as plt\n",
        "\n",
        "import tensorflow as tf\n",
        "\n",
        "from tensorflow import keras\n",
        "from tensorflow.keras import optimizers\n",
        "from tensorflow.keras.layers import Dense, Input"
      ],
      "execution_count": null,
      "outputs": []
    },
    {
      "cell_type": "code",
      "metadata": {
        "id": "D2ighJacKGc-"
      },
      "source": [
        "(train_x, train_y), (test_x, test_y) = tf.keras.datasets.boston_housing.load_data()"
      ],
      "execution_count": null,
      "outputs": []
    },
    {
      "cell_type": "code",
      "metadata": {
        "id": "1ZBkU23jDTqw",
        "colab": {
          "base_uri": "https://localhost:8080/",
          "height": 898
        },
        "outputId": "a1a251bd-8a35-4e7d-9aff-2c714798aa45"
      },
      "source": [
        "# 모델 정의\n",
        "model = keras.Sequential()\n",
        "model.add(Input(13))\n",
        "model.add(Dense(10, activation='relu'))\n",
        "model.add(Dense(10, activation='relu'))\n",
        "model.add(Dense(1))\n",
        "\n",
        "\n",
        "# 모델 컴파일\n",
        "model.compile(optimizer=\"Adam\", loss=\"mse\")\n",
        "model.summary()\n",
        "\n",
        "\n",
        "# 모델 학습\n",
        "history = model.fit(train_x, train_y, epochs=10, batch_size=32, validation_split=0.2)\n",
        "\n",
        "\n",
        "# 학습 로스 보기\n",
        "plt.plot(history.history['loss'], label=\"loss\")\n",
        "plt.plot(history.history['val_loss'], label=\"val_loss\")\n",
        "plt.legend()\n",
        "plt.show()"
      ],
      "execution_count": null,
      "outputs": [
        {
          "output_type": "stream",
          "name": "stdout",
          "text": [
            "Model: \"sequential_2\"\n",
            "_________________________________________________________________\n",
            " Layer (type)                Output Shape              Param #   \n",
            "=================================================================\n",
            " dense_6 (Dense)             (None, 10)                140       \n",
            "                                                                 \n",
            " dense_7 (Dense)             (None, 10)                110       \n",
            "                                                                 \n",
            " dense_8 (Dense)             (None, 1)                 11        \n",
            "                                                                 \n",
            "=================================================================\n",
            "Total params: 261\n",
            "Trainable params: 261\n",
            "Non-trainable params: 0\n",
            "_________________________________________________________________\n",
            "Epoch 1/10\n",
            "11/11 [==============================] - 1s 18ms/step - loss: 11516.1641 - val_loss: 8051.6357\n",
            "Epoch 2/10\n",
            "11/11 [==============================] - 0s 6ms/step - loss: 5753.9658 - val_loss: 3568.5332\n",
            "Epoch 3/10\n",
            "11/11 [==============================] - 0s 7ms/step - loss: 2418.4241 - val_loss: 1304.4751\n",
            "Epoch 4/10\n",
            "11/11 [==============================] - 0s 7ms/step - loss: 892.6674 - val_loss: 476.6715\n",
            "Epoch 5/10\n",
            "11/11 [==============================] - 0s 5ms/step - loss: 413.1987 - val_loss: 281.2127\n",
            "Epoch 6/10\n",
            "11/11 [==============================] - 0s 5ms/step - loss: 322.7421 - val_loss: 257.1956\n",
            "Epoch 7/10\n",
            "11/11 [==============================] - 0s 7ms/step - loss: 309.8092 - val_loss: 248.8088\n",
            "Epoch 8/10\n",
            "11/11 [==============================] - 0s 6ms/step - loss: 295.6910 - val_loss: 236.7704\n",
            "Epoch 9/10\n",
            "11/11 [==============================] - 0s 6ms/step - loss: 280.4921 - val_loss: 227.8941\n",
            "Epoch 10/10\n",
            "11/11 [==============================] - 0s 5ms/step - loss: 265.8056 - val_loss: 219.1731\n"
          ]
        },
        {
          "output_type": "display_data",
          "data": {
            "image/png": "[encoded data removed]",
            "text/plain": [
              "<Figure size 432x288 with 1 Axes>"
            ]
          },
          "metadata": {
            "needs_background": "light"
          }
        }
      ]
    },
    {
      "cell_type": "markdown",
      "metadata": {
        "id": "o3TxHDwpKegD"
      },
      "source": [
        "## 모델 저장"
      ]
    },
    {
      "cell_type": "code",
      "metadata": {
        "id": "HLOf2oTrDQaK"
      },
      "source": [
        "model.save(\"my_model.h5\")"
      ],
      "execution_count": null,
      "outputs": []
    },
    {
      "cell_type": "markdown",
      "metadata": {
        "id": "KS9rZtklKgh6"
      },
      "source": [
        "## 모델 로딩"
      ]
    },
    {
      "cell_type": "code",
      "metadata": {
        "id": "q0mtrnqvKOex",
        "colab": {
          "base_uri": "https://localhost:8080/",
          "height": 265
        },
        "outputId": "f1217803-cf79-43ab-d097-6c1333f4aff7"
      },
      "source": [
        "import tensorflow as tf\n",
        "import matplotlib.pyplot as plt\n",
        "\n",
        "(train_x, train_y), (test_x, test_y) = tf.keras.datasets.boston_housing.load_data()\n",
        "\n",
        "loaded_model = tf.keras.models.load_model(\"my_model.h5\")\n",
        "\n",
        "\n",
        "# 예측\n",
        "y_ = loaded_model.predict(test_x)\n",
        "\n",
        "\n",
        "# 예측 결과 보기\n",
        "plt.scatter(test_y, y_)\n",
        "plt.show()"
      ],
      "execution_count": null,
      "outputs": [
        {
          "output_type": "display_data",
          "data": {
            "image/png": "[encoded data removed]",
            "text/plain": [
              "<Figure size 432x288 with 1 Axes>"
            ]
          },
          "metadata": {
            "needs_background": "light"
          }
        }
      ]
    },
    {
      "cell_type": "code",
      "metadata": {
        "id": "EGJD3mCVKURr"
      },
      "source": [
        ""
      ],
      "execution_count": null,
      "outputs": []
    }
  ]
}